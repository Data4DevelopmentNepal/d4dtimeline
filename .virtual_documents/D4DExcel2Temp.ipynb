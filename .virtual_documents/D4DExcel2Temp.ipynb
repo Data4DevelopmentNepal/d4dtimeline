import pandas as pd
import os
import glob


df = pd.read_excel(r"C:\Users\SandeshSharma\OneDrive - The Asia Foundation\Desktop\Timeline of D4D.xlsx").drop("S.N.", axis=1)


# Path to the folder containing images
image_folder =  r"C:\Users\SandeshSharma\OneDrive - The Asia Foundation\Desktop\D4D Timeline Script\Timeline Pictures"   # Replace with the actual path to your images

# Function to find the matching image file for a given title
def find_image_file(title, folder):
    for ext in ['jpg', 'jpeg', 'png', 'webp']:  # List of possible extensions
        pattern = os.path.join(folder, f"{title}.{ext}")
        # print(pattern)
        files = glob.glob(pattern[82:])
        # print(files)
        if files:
            return files[0]  # Return the first match found
    return "nan"  # Return 'nan' if no matching file is found

# Populate the 'image' column based on the title
df['Image'] = df['Title'].apply(lambda title: find_image_file(title, image_folder))
df["Image"]


# len("C:\Users\SandeshSharma\OneDrive - The Asia Foundation\Desktop\D4D Timeline Script\)


df


print(df.Image[5])


def generate_html(df):
    html = """
    <!DOCTYPE html>
    <html lang="en">
    <head>
        <meta charset="UTF-8">
        <meta name="viewport" content="width=device-width, initial-scale=1.0">
        <title>Data 4 Development Timeline</title>
        <link rel="stylesheet" href="styles.css">
    </head>
    <body>
        <div class="timeline">
            <h1>Data 4 Development</h1>
            <div class="timeline-line"></div>
    """
    
    for i, row in df.iterrows():
        position = "left" if i % 2 == 0 else "right"
        html += f"""
            <div class="timeline-item {position}">
                <div class="timeline-date">{row['Date']}</div>
                <div class="timeline-content">
                    <img src=".\{row['Image']}" alt="{row['Title']}">
                    <p>{row['Description']}</p>
                </div>
            </div>
        """
    
    html += """
        </div>
        <script src="script.js"></script>
    </body>
    </html>
    """
    
    return html

# Generate the complete HTML content
html_output = generate_html(df)

# Write the generated HTML to a file
with open("index.html", "w") as file:
    file.write(html_output)

print("HTML file has been created: timeline.html")









