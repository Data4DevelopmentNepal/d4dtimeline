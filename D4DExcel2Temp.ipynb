{
 "cells": [
  {
   "cell_type": "code",
   "execution_count": 20,
   "id": "79c16274-69fb-4c75-8cc6-5ffc0689bf6d",
   "metadata": {},
   "outputs": [],
   "source": [
    "import pandas as pd\n",
    "import os\n",
    "import glob"
   ]
  },
  {
   "cell_type": "code",
   "execution_count": 21,
   "id": "bcf10fd4-515e-454b-951c-fc37f484073c",
   "metadata": {},
   "outputs": [],
   "source": [
    "df = pd.read_excel(r\"C:\\Users\\SandeshSharma\\OneDrive - The Asia Foundation\\Desktop\\Timeline of D4D.xlsx\").drop(\"S.N.\", axis=1)"
   ]
  },
  {
   "cell_type": "code",
   "execution_count": 22,
   "id": "8e731c38-4f74-42e9-9643-0311316ecf2e",
   "metadata": {},
   "outputs": [
    {
     "data": {
      "text/plain": [
       "0           Timeline Pictures\\Launch of D4D Phase 2.jpg\n",
       "1                  Timeline Pictures\\DoLab Workshop.png\n",
       "2     Timeline Pictures\\International Day for Women ...\n",
       "3     Timeline Pictures\\Building Information and Pla...\n",
       "4     Timeline Pictures\\Women in Data Conference 202...\n",
       "5     Timeline Pictures\\National Innovation Digital ...\n",
       "6     Timeline Pictures\\Digital Nepal Conclave 2022.png\n",
       "7     Timeline Pictures\\Local Governent (LG) Data Fe...\n",
       "8         Timeline Pictures\\Census Data Observation.png\n",
       "9     Timeline Pictures\\National Innovation Conferen...\n",
       "10    Timeline Pictures\\Conference on Artificial Int...\n",
       "11    Timeline Pictures\\Women in Data Conference 202...\n",
       "Name: Image, dtype: object"
      ]
     },
     "execution_count": 22,
     "metadata": {},
     "output_type": "execute_result"
    }
   ],
   "source": [
    "# Path to the folder containing images\n",
    "image_folder =  r\"C:\\Users\\SandeshSharma\\OneDrive - The Asia Foundation\\Desktop\\D4D Timeline Script\\Timeline Pictures\"   # Replace with the actual path to your images\n",
    "\n",
    "# Function to find the matching image file for a given title\n",
    "def find_image_file(title, folder):\n",
    "    for ext in ['jpg', 'jpeg', 'png', 'webp']:  # List of possible extensions\n",
    "        pattern = os.path.join(folder, f\"{title}.{ext}\")\n",
    "        # print(pattern)\n",
    "        files = glob.glob(pattern[82:])\n",
    "        # print(files)\n",
    "        if files:\n",
    "            return files[0]  # Return the first match found\n",
    "    return \"nan\"  # Return 'nan' if no matching file is found\n",
    "\n",
    "# Populate the 'image' column based on the title\n",
    "df['Image'] = df['Title'].apply(lambda title: find_image_file(title, image_folder))\n",
    "df[\"Image\"]"
   ]
  },
  {
   "cell_type": "code",
   "execution_count": 23,
   "id": "6fceb6fa-e341-4c35-b3cb-8a8c0f90087a",
   "metadata": {},
   "outputs": [],
   "source": [
    "# len(\"C:\\Users\\SandeshSharma\\OneDrive - The Asia Foundation\\Desktop\\D4D Timeline Script\\)"
   ]
  },
  {
   "cell_type": "code",
   "execution_count": 24,
   "id": "62abc07d-36fc-415e-98e1-c41b928d140a",
   "metadata": {},
   "outputs": [
    {
     "data": {
      "text/html": [
       "<div>\n",
       "<style scoped>\n",
       "    .dataframe tbody tr th:only-of-type {\n",
       "        vertical-align: middle;\n",
       "    }\n",
       "\n",
       "    .dataframe tbody tr th {\n",
       "        vertical-align: top;\n",
       "    }\n",
       "\n",
       "    .dataframe thead th {\n",
       "        text-align: right;\n",
       "    }\n",
       "</style>\n",
       "<table border=\"1\" class=\"dataframe\">\n",
       "  <thead>\n",
       "    <tr style=\"text-align: right;\">\n",
       "      <th></th>\n",
       "      <th>Date</th>\n",
       "      <th>Title</th>\n",
       "      <th>Description</th>\n",
       "      <th>Image</th>\n",
       "    </tr>\n",
       "  </thead>\n",
       "  <tbody>\n",
       "    <tr>\n",
       "      <th>0</th>\n",
       "      <td>August, 2020</td>\n",
       "      <td>Launch of D4D Phase 2</td>\n",
       "      <td>On the 11 August 2020, The Asia Foundation (TA...</td>\n",
       "      <td>Timeline Pictures\\Launch of D4D Phase 2.jpg</td>\n",
       "    </tr>\n",
       "    <tr>\n",
       "      <th>1</th>\n",
       "      <td>September, 2020</td>\n",
       "      <td>DoLab Workshop</td>\n",
       "      <td>The Women in Data (WID) Steering Committee com...</td>\n",
       "      <td>Timeline Pictures\\DoLab Workshop.png</td>\n",
       "    </tr>\n",
       "    <tr>\n",
       "      <th>2</th>\n",
       "      <td>February, 2021</td>\n",
       "      <td>International Day for Women and Girls in Science</td>\n",
       "      <td>To celebrate International day for women and g...</td>\n",
       "      <td>Timeline Pictures\\International Day for Women ...</td>\n",
       "    </tr>\n",
       "    <tr>\n",
       "      <th>3</th>\n",
       "      <td>March, 2021</td>\n",
       "      <td>Building Information and Platform Against Disa...</td>\n",
       "      <td>Under D4D’s initiative to support nationwide c...</td>\n",
       "      <td>Timeline Pictures\\Building Information and Pla...</td>\n",
       "    </tr>\n",
       "    <tr>\n",
       "      <th>4</th>\n",
       "      <td>March, 2022</td>\n",
       "      <td>Women in Data Conference 2022</td>\n",
       "      <td>The Women in Data Conference 2022 that aimed t...</td>\n",
       "      <td>Timeline Pictures\\Women in Data Conference 202...</td>\n",
       "    </tr>\n",
       "    <tr>\n",
       "      <th>5</th>\n",
       "      <td>March, 2022</td>\n",
       "      <td>National Innovation Digital Network</td>\n",
       "      <td>D4D supported the National Academy of Science ...</td>\n",
       "      <td>Timeline Pictures\\National Innovation Digital ...</td>\n",
       "    </tr>\n",
       "    <tr>\n",
       "      <th>6</th>\n",
       "      <td>June, 2022</td>\n",
       "      <td>Digital Nepal Conclave 2022</td>\n",
       "      <td>D4D endorsed Nepal’s Digital Conclave in the f...</td>\n",
       "      <td>Timeline Pictures\\Digital Nepal Conclave 2022.png</td>\n",
       "    </tr>\n",
       "    <tr>\n",
       "      <th>7</th>\n",
       "      <td>September, 2022</td>\n",
       "      <td>Local Governent (LG) Data Fellowship</td>\n",
       "      <td>Local Government (LG) Data Fellowship” is an i...</td>\n",
       "      <td>Timeline Pictures\\Local Governent (LG) Data Fe...</td>\n",
       "    </tr>\n",
       "    <tr>\n",
       "      <th>8</th>\n",
       "      <td>December ,2022</td>\n",
       "      <td>Census Data Observation</td>\n",
       "      <td>D4D along with Karnali Integrated Rural Develo...</td>\n",
       "      <td>Timeline Pictures\\Census Data Observation.png</td>\n",
       "    </tr>\n",
       "    <tr>\n",
       "      <th>9</th>\n",
       "      <td>January, 2023</td>\n",
       "      <td>National Innovation Conference</td>\n",
       "      <td>On January 24, 2023, the First National Innova...</td>\n",
       "      <td>Timeline Pictures\\National Innovation Conferen...</td>\n",
       "    </tr>\n",
       "    <tr>\n",
       "      <th>10</th>\n",
       "      <td>March, 2024</td>\n",
       "      <td>Conference on Artificial Intelligence for Pros...</td>\n",
       "      <td>In collaboration with the Ministry of Educatio...</td>\n",
       "      <td>Timeline Pictures\\Conference on Artificial Int...</td>\n",
       "    </tr>\n",
       "    <tr>\n",
       "      <th>11</th>\n",
       "      <td>March, 2024</td>\n",
       "      <td>Women in Data Conference 2024</td>\n",
       "      <td>Ctrl+Z: Rewriting Gender Paradigms and Technol...</td>\n",
       "      <td>Timeline Pictures\\Women in Data Conference 202...</td>\n",
       "    </tr>\n",
       "  </tbody>\n",
       "</table>\n",
       "</div>"
      ],
      "text/plain": [
       "               Date                                              Title  \\\n",
       "0      August, 2020                              Launch of D4D Phase 2   \n",
       "1   September, 2020                                     DoLab Workshop   \n",
       "2    February, 2021   International Day for Women and Girls in Science   \n",
       "3       March, 2021  Building Information and Platform Against Disa...   \n",
       "4       March, 2022                      Women in Data Conference 2022   \n",
       "5       March, 2022                National Innovation Digital Network   \n",
       "6        June, 2022                        Digital Nepal Conclave 2022   \n",
       "7   September, 2022               Local Governent (LG) Data Fellowship   \n",
       "8    December ,2022                            Census Data Observation   \n",
       "9     January, 2023                     National Innovation Conference   \n",
       "10      March, 2024  Conference on Artificial Intelligence for Pros...   \n",
       "11      March, 2024                      Women in Data Conference 2024   \n",
       "\n",
       "                                          Description  \\\n",
       "0   On the 11 August 2020, The Asia Foundation (TA...   \n",
       "1   The Women in Data (WID) Steering Committee com...   \n",
       "2   To celebrate International day for women and g...   \n",
       "3   Under D4D’s initiative to support nationwide c...   \n",
       "4   The Women in Data Conference 2022 that aimed t...   \n",
       "5   D4D supported the National Academy of Science ...   \n",
       "6   D4D endorsed Nepal’s Digital Conclave in the f...   \n",
       "7   Local Government (LG) Data Fellowship” is an i...   \n",
       "8   D4D along with Karnali Integrated Rural Develo...   \n",
       "9   On January 24, 2023, the First National Innova...   \n",
       "10  In collaboration with the Ministry of Educatio...   \n",
       "11  Ctrl+Z: Rewriting Gender Paradigms and Technol...   \n",
       "\n",
       "                                                Image  \n",
       "0         Timeline Pictures\\Launch of D4D Phase 2.jpg  \n",
       "1                Timeline Pictures\\DoLab Workshop.png  \n",
       "2   Timeline Pictures\\International Day for Women ...  \n",
       "3   Timeline Pictures\\Building Information and Pla...  \n",
       "4   Timeline Pictures\\Women in Data Conference 202...  \n",
       "5   Timeline Pictures\\National Innovation Digital ...  \n",
       "6   Timeline Pictures\\Digital Nepal Conclave 2022.png  \n",
       "7   Timeline Pictures\\Local Governent (LG) Data Fe...  \n",
       "8       Timeline Pictures\\Census Data Observation.png  \n",
       "9   Timeline Pictures\\National Innovation Conferen...  \n",
       "10  Timeline Pictures\\Conference on Artificial Int...  \n",
       "11  Timeline Pictures\\Women in Data Conference 202...  "
      ]
     },
     "execution_count": 24,
     "metadata": {},
     "output_type": "execute_result"
    }
   ],
   "source": [
    "df"
   ]
  },
  {
   "cell_type": "code",
   "execution_count": 25,
   "id": "b2dd90c4-2bd9-4c85-b057-1d1fff9ae9db",
   "metadata": {},
   "outputs": [
    {
     "name": "stdout",
     "output_type": "stream",
     "text": [
      "Timeline Pictures\\National Innovation Digital Network.jpeg\n"
     ]
    }
   ],
   "source": [
    "print(df.Image[5])"
   ]
  },
  {
   "cell_type": "code",
   "execution_count": 26,
   "id": "701d9fea-4573-41b8-925f-1303e117fc58",
   "metadata": {},
   "outputs": [
    {
     "name": "stdout",
     "output_type": "stream",
     "text": [
      "HTML file has been created: timeline.html\n"
     ]
    }
   ],
   "source": [
    "def generate_html(df):\n",
    "    html = \"\"\"\n",
    "    <!DOCTYPE html>\n",
    "    <html lang=\"en\">\n",
    "    <head>\n",
    "        <meta charset=\"UTF-8\">\n",
    "        <meta name=\"viewport\" content=\"width=device-width, initial-scale=1.0\">\n",
    "        <title>Data 4 Development Timeline</title>\n",
    "        <link rel=\"stylesheet\" href=\"styles.css\">\n",
    "    </head>\n",
    "    <body>\n",
    "        <div class=\"timeline\">\n",
    "            <h1>Data 4 Development</h1>\n",
    "            <div class=\"timeline-line\"></div>\n",
    "    \"\"\"\n",
    "    \n",
    "    for i, row in df.iterrows():\n",
    "        position = \"left\" if i % 2 == 0 else \"right\"\n",
    "        html += f\"\"\"\n",
    "            <div class=\"timeline-item {position}\">\n",
    "                <div class=\"timeline-date\">{row['Date']}</div>\n",
    "                <div class=\"timeline-content\">\n",
    "                    <img src=\".\\{row['Image']}\" alt=\"{row['Title']}\">\n",
    "                    <p>{row['Description']}</p>\n",
    "                </div>\n",
    "            </div>\n",
    "        \"\"\"\n",
    "    \n",
    "    html += \"\"\"\n",
    "        </div>\n",
    "        <script src=\"script.js\"></script>\n",
    "    </body>\n",
    "    </html>\n",
    "    \"\"\"\n",
    "    \n",
    "    return html\n",
    "\n",
    "# Generate the complete HTML content\n",
    "html_output = generate_html(df)\n",
    "\n",
    "# Write the generated HTML to a file\n",
    "with open(\"index.html\", \"w\") as file:\n",
    "    file.write(html_output)\n",
    "\n",
    "print(\"HTML file has been created: timeline.html\")"
   ]
  },
  {
   "cell_type": "code",
   "execution_count": null,
   "id": "c3c915bc-865f-4def-8ad8-a722c19c789f",
   "metadata": {},
   "outputs": [],
   "source": []
  },
  {
   "cell_type": "code",
   "execution_count": null,
   "id": "02dba644-f964-4a3a-9f85-e779632c069a",
   "metadata": {},
   "outputs": [],
   "source": []
  },
  {
   "cell_type": "code",
   "execution_count": null,
   "id": "50576812-f980-40dd-8454-38ef7c1fcdfa",
   "metadata": {},
   "outputs": [],
   "source": []
  }
 ],
 "metadata": {
  "kernelspec": {
   "display_name": "Python [conda env:root] *",
   "language": "python",
   "name": "conda-root-py"
  },
  "language_info": {
   "codemirror_mode": {
    "name": "ipython",
    "version": 3
   },
   "file_extension": ".py",
   "mimetype": "text/x-python",
   "name": "python",
   "nbconvert_exporter": "python",
   "pygments_lexer": "ipython3",
   "version": "3.11.7"
  }
 },
 "nbformat": 4,
 "nbformat_minor": 5
}
