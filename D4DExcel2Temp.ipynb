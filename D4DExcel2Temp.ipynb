{
 "cells": [
  {
   "cell_type": "code",
   "execution_count": 43,
   "id": "79c16274-69fb-4c75-8cc6-5ffc0689bf6d",
   "metadata": {},
   "outputs": [],
   "source": [
    "import pandas as pd\n",
    "import os\n",
    "import glob"
   ]
  },
  {
   "cell_type": "code",
   "execution_count": 44,
   "id": "bcf10fd4-515e-454b-951c-fc37f484073c",
   "metadata": {},
   "outputs": [],
   "source": [
    "df = pd.read_excel(r\"C:\\Users\\SandeshSharma\\OneDrive - The Asia Foundation\\Desktop\\Timeline of D4D.xlsx\").drop(\"S.N.\", axis=1)"
   ]
  },
  {
   "cell_type": "code",
   "execution_count": 45,
   "id": "8e731c38-4f74-42e9-9643-0311316ecf2e",
   "metadata": {},
   "outputs": [],
   "source": [
    "# Path to the folder containing images\n",
    "image_folder =  r\"C:\\Users\\SandeshSharma\\OneDrive - The Asia Foundation\\Desktop\\D4D Timeline Script\\Timeline Pictures\"   # Replace with the actual path to your images\n",
    "\n",
    "# Function to find the matching image file for a given title\n",
    "def find_image_file(title, folder):\n",
    "    for ext in ['jpg', 'jpeg', 'png', 'webp']:  # List of possible extensions\n",
    "        pattern = os.path.join(folder, f\"{title}.{ext}\")\n",
    "        files = glob.glob(pattern[82:])\n",
    "        if files:\n",
    "            return files[0]  # Return the first match found\n",
    "    return \"nan\"  # Return 'nan' if no matching file is found\n",
    "\n",
    "# Populate the 'image' column based on the title\n",
    "df['Image'] = df['Title'].apply(lambda title: find_image_file(title, image_folder))"
   ]
  },
  {
   "cell_type": "code",
   "execution_count": 46,
   "id": "701d9fea-4573-41b8-925f-1303e117fc58",
   "metadata": {},
   "outputs": [
    {
     "name": "stdout",
     "output_type": "stream",
     "text": [
      "HTML file has been created: timeline.html\n"
     ]
    }
   ],
   "source": [
    "def generate_html(df):\n",
    "    html = \"\"\"\n",
    "    <!DOCTYPE html>\n",
    "    <html lang=\"en\">\n",
    "    <head>\n",
    "        <meta charset=\"UTF-8\">\n",
    "        <meta name=\"viewport\" content=\"width=device-width, initial-scale=1.0\">\n",
    "        <title>Data 4 Development Timeline</title>\n",
    "        <link rel=\"stylesheet\" href=\"styles.css\">\n",
    "    </head>\n",
    "    <body>\n",
    "        <div class=\"timeline\">\n",
    "            <h1>Data 4 Development</h1>\n",
    "            <div class=\"timeline-line\"></div>\n",
    "    \"\"\"\n",
    "    \n",
    "    for i, row in df.iterrows():\n",
    "        position = \"left\" if i % 2 == 0 else \"right\"\n",
    "        html += f\"\"\"\n",
    "            <div class=\"timeline-item {position}\">\n",
    "                <div class=\"timeline-date\">{row['Date']}</div>\n",
    "                <div class=\"timeline-content\">\n",
    "                    <img src=\".\\{row['Image']}\" alt=\"{row['Title']}\">\n",
    "                    <p>{row['Description']}</p>\n",
    "                </div>\n",
    "            </div>\n",
    "        \"\"\"\n",
    "    \n",
    "    html += \"\"\"\n",
    "        </div>\n",
    "        <script src=\"script.js\"></script>\n",
    "    </body>\n",
    "    </html>\n",
    "    \"\"\"\n",
    "    \n",
    "    return html\n",
    "\n",
    "# Generate the complete HTML content\n",
    "html_output = generate_html(df)\n",
    "\n",
    "# Write the generated HTML to a file\n",
    "with open(\"index.html\", \"w\", encoding=\"utf-8\") as file:\n",
    "    file.write(html_output)\n",
    "\n",
    "print(\"HTML file has been created: timeline.html\")"
   ]
  },
  {
   "cell_type": "code",
   "execution_count": null,
   "id": "05fd4322-d8be-4479-91ff-402821088dbd",
   "metadata": {},
   "outputs": [],
   "source": []
  }
 ],
 "metadata": {
  "kernelspec": {
   "display_name": "Python [conda env:root] *",
   "language": "python",
   "name": "conda-root-py"
  },
  "language_info": {
   "codemirror_mode": {
    "name": "ipython",
    "version": 3
   },
   "file_extension": ".py",
   "mimetype": "text/x-python",
   "name": "python",
   "nbconvert_exporter": "python",
   "pygments_lexer": "ipython3",
   "version": "3.11.7"
  }
 },
 "nbformat": 4,
 "nbformat_minor": 5
}
